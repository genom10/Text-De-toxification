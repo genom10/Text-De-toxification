{
 "cells": [
  {
   "cell_type": "code",
   "execution_count": 1,
   "metadata": {},
   "outputs": [],
   "source": [
    "import sys\n",
    "import torch\n",
    "# setting path so we cam import src\n",
    "sys.path.append('..')\n",
    "from src.data.data import *\n",
    "from src.models.models import *"
   ]
  },
  {
   "cell_type": "code",
   "execution_count": 11,
   "metadata": {},
   "outputs": [],
   "source": [
    "device = torch.device(\"cpu\")\n",
    "MAX_LENGTH = 64\n",
    "hidden_size = 128\n",
    "input_lang = loadFromFile('../models/lang_tox.obj')\n",
    "output_lang =loadFromFile('../models/lang_detox.obj')\n",
    "encoder = EncoderRNN(input_lang.n_words, hidden_size).to(device)\n",
    "decoder = AttnDecoderRNN(hidden_size, output_lang.n_words, device=device, SOS_token=SOS_token, max_length=MAX_LENGTH).to(device)\n",
    "encoder, decoder = loadModels(encoder, decoder, '../models/EncoderRNN_16.0.pt', '../models/AttnDecoderRNN_16.0.pt')"
   ]
  },
  {
   "cell_type": "code",
   "execution_count": 12,
   "metadata": {},
   "outputs": [
    {
     "ename": "TypeError",
     "evalue": "'_IncompatibleKeys' object is not callable",
     "output_type": "error",
     "traceback": [
      "\u001b[0;31m---------------------------------------------------------------------------\u001b[0m",
      "\u001b[0;31mTypeError\u001b[0m                                 Traceback (most recent call last)",
      "\u001b[1;32m/home/genom10/git/PMLDL-Assignment1/notebooks/3.0-model-showcase.ipynb Cell 3\u001b[0m line \u001b[0;36m1\n\u001b[0;32m----> <a href='vscode-notebook-cell:/home/genom10/git/PMLDL-Assignment1/notebooks/3.0-model-showcase.ipynb#W2sZmlsZQ%3D%3D?line=0'>1</a>\u001b[0m evaluateShowcase(\u001b[39m'\u001b[39;49m\u001b[39mi m famous and you re dead\u001b[39;49m\u001b[39m'\u001b[39;49m, encoder, decoder, input_lang, output_lang, device)\n\u001b[1;32m      <a href='vscode-notebook-cell:/home/genom10/git/PMLDL-Assignment1/notebooks/3.0-model-showcase.ipynb#W2sZmlsZQ%3D%3D?line=1'>2</a>\u001b[0m evaluateShowcase(\u001b[39m'\u001b[39m\u001b[39myour mother was a hamster and your father smelt of elderberries\u001b[39m\u001b[39m'\u001b[39m, encoder, decoder, input_lang, output_lang, device)\n\u001b[1;32m      <a href='vscode-notebook-cell:/home/genom10/git/PMLDL-Assignment1/notebooks/3.0-model-showcase.ipynb#W2sZmlsZQ%3D%3D?line=2'>3</a>\u001b[0m evaluateShowcase(\u001b[39m'\u001b[39m\u001b[39mNo words can describe my gutteral hate to you\u001b[39m\u001b[39m'\u001b[39m, encoder, decoder, input_lang, output_lang, device)\n",
      "File \u001b[0;32m~/git/PMLDL-Assignment1/notebooks/../src/data/data.py:214\u001b[0m, in \u001b[0;36mevaluateShowcase\u001b[0;34m(input_sentence, encoder, decoder, input_lang, output_lang, device)\u001b[0m\n\u001b[1;32m    213\u001b[0m \u001b[39mdef\u001b[39;00m \u001b[39mevaluateShowcase\u001b[39m(input_sentence, encoder, decoder, input_lang, output_lang, device):\n\u001b[0;32m--> 214\u001b[0m     output_words, attentions \u001b[39m=\u001b[39m evaluate(encoder, decoder, input_sentence, input_lang, output_lang, device)\n\u001b[1;32m    215\u001b[0m     \u001b[39mprint\u001b[39m(\u001b[39m'\u001b[39m\u001b[39minput =\u001b[39m\u001b[39m'\u001b[39m, input_sentence)\n\u001b[1;32m    216\u001b[0m     \u001b[39mprint\u001b[39m(\u001b[39m'\u001b[39m\u001b[39moutput =\u001b[39m\u001b[39m'\u001b[39m, \u001b[39m'\u001b[39m\u001b[39m \u001b[39m\u001b[39m'\u001b[39m\u001b[39m.\u001b[39mjoin(output_words))\n",
      "File \u001b[0;32m~/git/PMLDL-Assignment1/notebooks/../src/data/data.py:189\u001b[0m, in \u001b[0;36mevaluate\u001b[0;34m(encoder, decoder, sentence, input_lang, output_lang, device)\u001b[0m\n\u001b[1;32m    186\u001b[0m \u001b[39mwith\u001b[39;00m torch\u001b[39m.\u001b[39mno_grad():\n\u001b[1;32m    187\u001b[0m     input_tensor \u001b[39m=\u001b[39m tensorFromSentence(input_lang, sentence, device)\n\u001b[0;32m--> 189\u001b[0m     encoder_outputs, encoder_hidden \u001b[39m=\u001b[39m encoder(input_tensor)\n\u001b[1;32m    190\u001b[0m     decoder_outputs, decoder_hidden, decoder_attn \u001b[39m=\u001b[39m decoder(encoder_outputs, encoder_hidden)\n\u001b[1;32m    192\u001b[0m     _, topi \u001b[39m=\u001b[39m decoder_outputs\u001b[39m.\u001b[39mtopk(\u001b[39m1\u001b[39m)\n",
      "\u001b[0;31mTypeError\u001b[0m: '_IncompatibleKeys' object is not callable"
     ]
    }
   ],
   "source": [
    "evaluateShowcase('i m famous and you re dead', encoder, decoder, input_lang, output_lang, device)\n",
    "evaluateShowcase('your mother was a hamster and your father smelt of elderberries', encoder, decoder, input_lang, output_lang, device)\n",
    "evaluateShowcase('No words can describe my gutteral hate to you', encoder, decoder, input_lang, output_lang, device)\n",
    "evaluateShowcase('You should compete in a whale weight-class', encoder, decoder, input_lang, output_lang, device)"
   ]
  }
 ],
 "metadata": {
  "kernelspec": {
   "display_name": "Python 3",
   "language": "python",
   "name": "python3"
  },
  "language_info": {
   "codemirror_mode": {
    "name": "ipython",
    "version": 3
   },
   "file_extension": ".py",
   "mimetype": "text/x-python",
   "name": "python",
   "nbconvert_exporter": "python",
   "pygments_lexer": "ipython3",
   "version": "3.10.12"
  }
 },
 "nbformat": 4,
 "nbformat_minor": 2
}
